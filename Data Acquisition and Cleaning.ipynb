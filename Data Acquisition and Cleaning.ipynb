{
 "cells": [
  {
   "cell_type": "markdown",
   "metadata": {},
   "source": [
    "# 2. Data Acquisition and Cleaning"
   ]
  },
  {
   "cell_type": "markdown",
   "metadata": {},
   "source": [
    "### 2.1 Data Sources"
   ]
  },
  {
   "cell_type": "markdown",
   "metadata": {},
   "source": [
    "The dataset, consisting of records of past accidents from January 2004 to April 2020 and circumstances surrounding them, such as the collision type, locations and various conditions, can be found here. "
   ]
  },
  {
   "cell_type": "markdown",
   "metadata": {},
   "source": [
    "### 2.2 Data Cleaning"
   ]
  },
  {
   "cell_type": "markdown",
   "metadata": {},
   "source": [
    "Generally, the data set is rather complete with only a few features having missing values. \n",
    "\t\n",
    "The oldest records compiled from 2004 had mostly intact information with only a few entries having missing values and hence there is no need to restrict the dataset by the year of the accident.\n",
    "\t\n",
    "Based on the unique and secondary keys for the incidents, it seems that there were no duplicates of entry present in the dataset as well. \n"
   ]
  },
  {
   "cell_type": "markdown",
   "metadata": {},
   "source": [
    "### 2.3 Feature Selection"
   ]
  },
  {
   "cell_type": "markdown",
   "metadata": {},
   "source": [
    "After going through some data cleaning, the dataset had 194 673 total entries and 38 features. Upon closer examination of the data, it was observed that some features were very similar and can be considered repetitions of each other. Some features also had too many missing values to be considered meaningful data.\n",
    "\n",
    "Some of the features that are very closely linked would be those features which are pre-defined descriptions for a certain code. For instance, the feature for the code corresponding to the severity of the collision (SEVERITYCODE) and the feature for the detailed description of the collision are essentially the same (SEVERITYDESC). For easy data reading, the description counterpart of each pair will be dropped (see Table 1).\n",
    "Features with too many missing data can have reduced effectiveness in analysis and modelling. \n",
    "\n",
    "Features such as the key that corresponds to the intersection associated with a collision (INTKEY) and whether or not speeding was a factor in the collision (SPEEDING) had 129 603 and 185 340 missing values respectively. As a general guide, features with more than 10% of the total entries having missing values will not be selected (see Table 1).\n"
   ]
  },
  {
   "cell_type": "markdown",
   "metadata": {},
   "source": [
    "| Kept Features | Dropped Features | Reason for Dropping Features | \n",
    "| ----------------- | ------- | ---------- | \n",
    "| EXCEPTRSNCODE, SEVERITYCODE, SDOT_COLCODE, ST_COLCODE | EXCEPTRSNDESC, SEVERITY.CODE1, SEVERITYDESC, SDOT_COLDESC, ST_COLDESC | Two similar features (one is description of the code in another feature)    | \n",
    "| All other features | INTKEY, EXCEPTRSNCODE, EXCEPTRSNDESC, INATTENTIONIND, SDOT_COLUMN, SPEEDING | Too many missing values (more than 10% missing) |"
   ]
  }
 ],
 "metadata": {
  "kernelspec": {
   "display_name": "Python 3",
   "language": "python",
   "name": "python3"
  },
  "language_info": {
   "codemirror_mode": {
    "name": "ipython",
    "version": 3
   },
   "file_extension": ".py",
   "mimetype": "text/x-python",
   "name": "python",
   "nbconvert_exporter": "python",
   "pygments_lexer": "ipython3",
   "version": "3.7.6"
  }
 },
 "nbformat": 4,
 "nbformat_minor": 4
}
