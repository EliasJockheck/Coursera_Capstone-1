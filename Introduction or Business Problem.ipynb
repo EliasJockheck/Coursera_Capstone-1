{
 "cells": [
  {
   "cell_type": "markdown",
   "metadata": {},
   "source": [
    "# 1. Introduction or Business Problem"
   ]
  },
  {
   "cell_type": "markdown",
   "metadata": {},
   "source": [
    "### 1.1 Background"
   ]
  },
  {
   "cell_type": "markdown",
   "metadata": {},
   "source": [
    "\n",
    "Seattle, one of the fastest-growing major city in United States (U.S.), is a seaport city situated on the West Coast of U.S. The metro area population of Seattle has been on the rise, increasing by 1.2% from about 3 339 000 in 2017 to 3 379 000 in 2018, and increasing by 0.8% to 3 406 000 in 2019.  As population increases, the amount of vehicles on the roads also rises. In 2017, the number of cars in Seattle reached 435 000, which is just over two thousand per square kilometres.  With more cars, the probability of car accidents increases as well. Car accidents generally happen about once a day in the transport corridors of Seattle.  Major car accidents almost always lead to huge traffic jams, resulting in commuters being late to their destinations. As such, it could be advantageous for drivers to be able to predict the severity of a car accident, so that they could avoid a potential massive traffic jam by changing their driving routes beforehand."
   ]
  },
  {
   "cell_type": "markdown",
   "metadata": {},
   "source": [
    "### 1.2 Problem"
   ]
  },
  {
   "cell_type": "markdown",
   "metadata": {},
   "source": [
    "Data that may contribute to the severity of a car accident may include the number of people involved, the conditions of the road such as light and wetness, the weather, and the type of road at which the accident occurred. This project aims to predict how severe a car accident is, depending on these data."
   ]
  },
  {
   "cell_type": "markdown",
   "metadata": {},
   "source": [
    "### 1.3 Interest"
   ]
  },
  {
   "cell_type": "markdown",
   "metadata": {},
   "source": [
    "Drivers would be interested in accurate predictions of the severity of accidents, to minimise wastage of time and fuel if they were to be stuck in a traffic jam. \n"
   ]
  }
 ],
 "metadata": {
  "kernelspec": {
   "display_name": "Python 3",
   "language": "python",
   "name": "python3"
  },
  "language_info": {
   "codemirror_mode": {
    "name": "ipython",
    "version": 3
   },
   "file_extension": ".py",
   "mimetype": "text/x-python",
   "name": "python",
   "nbconvert_exporter": "python",
   "pygments_lexer": "ipython3",
   "version": "3.7.6"
  }
 },
 "nbformat": 4,
 "nbformat_minor": 4
}
